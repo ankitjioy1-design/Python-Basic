{
  "nbformat": 4,
  "nbformat_minor": 0,
  "metadata": {
    "colab": {
      "provenance": []
    },
    "kernelspec": {
      "name": "python3",
      "display_name": "Python 3"
    },
    "language_info": {
      "name": "python"
    }
  },
  "cells": [
    {
      "cell_type": "markdown",
      "source": [
        "#Python basic Question"
      ],
      "metadata": {
        "id": "1yNr9yDaFCHh"
      }
    },
    {
      "cell_type": "markdown",
      "source": [
        "1.What is Python, and why is it popular?\n",
        "\n",
        "1.Python is high level programming language which is used to instruct the computer to do a particular task and widely used data science and data analyst field.\n",
        "It  is popular because\n",
        "\n",
        "\n",
        "*   Easy to learn and simple\n",
        "*   Huge number of libraries\n",
        "\n",
        "*   Widely used in data fields like data science and data analyst\n",
        "*   Used for cleaning the data.\n",
        "\n",
        "*   Flexibility\n",
        "*   Scalability\n",
        "\n",
        "\n",
        "\n",
        "\n",
        "\n"
      ],
      "metadata": {
        "id": "td0iUDHBFR0z"
      }
    },
    {
      "cell_type": "markdown",
      "source": [
        "2.What is an interpreter in Python?\n",
        "\n",
        "2.An interpreter in Python used to translate the high level source code into machine level source code and execute line by line and not generate a separate executablef file."
      ],
      "metadata": {
        "id": "q_TdC_UGHMTF"
      }
    },
    {
      "cell_type": "markdown",
      "source": [
        "3.What are pre-defined keywords in Python?\n",
        "\n",
        "3.**Predefined Keyword** are which word having reserved meaning to interpreter.They have special meaning and they are not used for the variable name."
      ],
      "metadata": {
        "id": "7giTqUBwI17W"
      }
    },
    {
      "cell_type": "markdown",
      "source": [
        "4.Can keywords be used as variable names?    \n",
        "\n",
        "4.No,keywords cannnot be used as variable names because they have special meaning."
      ],
      "metadata": {
        "id": "DxRTPPK0JhjD"
      }
    },
    {
      "cell_type": "markdown",
      "source": [
        "5.What is mutability in Python?\n",
        "\n",
        "5.Mutability in Python are object an nutable or change their value after they created."
      ],
      "metadata": {
        "id": "EO92zeWwKQEI"
      }
    },
    {
      "cell_type": "markdown",
      "source": [
        "6.Why are lists mutable, but tuples are immutable?\n",
        "\n",
        "  6.Lists are mutable because their class implementation includes operations(like append() and _setitem_ ) that allow for adding, removing,and changing elements after creation.\n",
        "\n",
        "Tuples are immutable because their implementation does not provide such mutator methods, meaning they are fixed and cannot be changed once defined."
      ],
      "metadata": {
        "id": "Y4OTk0TOLB6z"
      }
    },
    {
      "cell_type": "markdown",
      "source": [
        "7.What is the difference between “==” and “is” operators in Python?\n",
        "\n",
        "7.\"==\" This operator is used to check the equality of values or variables.\n",
        "\n",
        "\"is\" This operator is used to check if two varibles refers to the same object in memory."
      ],
      "metadata": {
        "id": "kKPguNOOMY2R"
      }
    },
    {
      "cell_type": "markdown",
      "source": [
        "8.What are logical operators in Python?\n",
        "\n",
        "8.Logical operator are used to combine conditional statements and evaluate boolean expression,returning True or False Eg  and ,or ,not."
      ],
      "metadata": {
        "id": "k0bT7M2yM966"
      }
    },
    {
      "cell_type": "markdown",
      "source": [
        "9.What is type casting in Python?\n",
        "\n",
        "9.**Type Casting**means converting one data type into other data type.Conversion of data type in simply language.\n",
        "\n",
        "eg a=9\n",
        "\n",
        "b=float(a)\n",
        "\n",
        "a\n",
        "\n",
        "9.0"
      ],
      "metadata": {
        "id": "LRpK7B2gNfwZ"
      }
    },
    {
      "cell_type": "markdown",
      "source": [
        "10.What is the difference between implicit and explicit type casting?\n",
        "\n",
        "10.**Implicit Type Casting** :-In this type there is no involvement of user and it is done by the compiler/interpreter itself.\n",
        "\n",
        "**Explicit Type Casting**:- In this type there is involvement of user and it is done by user explicitly.\n"
      ],
      "metadata": {
        "id": "FxetXzB8OIR8"
      }
    },
    {
      "cell_type": "markdown",
      "source": [
        "11.What is the purpose of conditional statements in Python?\n",
        "\n",
        "11.The pupose of conditional statement is to check the conditions whether they are True of False and it used for decision making to executed different blocks of code whether it is True or False."
      ],
      "metadata": {
        "id": "cnO3mZxqPP9p"
      }
    },
    {
      "cell_type": "markdown",
      "source": [
        "12.How does the elif statement work?\n",
        "\n",
        "12.**Elif statement** else+if=elif\n",
        "\n",
        "if statement to check multiple conditions sequentially.It provides a way to execute different blocks of code based on which condition is met first.\n",
        "\n",
        "eg)\n",
        "\n",
        "marks=int(input(\"Enter your marks:\"))\n",
        "\n",
        "if (marks>=90):\n",
        "\n",
        "  print(\"A\")\n",
        "\n",
        "elif(80<=marks<90):\n",
        "\n",
        "  print(\"B\")\n",
        "\n",
        "elif(70<=marks<80):\n",
        "\n",
        "  print(\"C\")\n",
        "\n",
        "else:\n",
        "\n",
        "  print(\"D\")"
      ],
      "metadata": {
        "id": "vIvbrW0hP2S1"
      }
    },
    {
      "cell_type": "markdown",
      "source": [
        "13.What is the difference between for and while loops?\n",
        "\n",
        "13.**For loop** is used when you know in advance how many times you want to executes the block of code.\n",
        "\n",
        "**While loop** is used when you donot know in advance how many times you want to execute the block of code. It continues to executes as long as the specified condition is True\n",
        "\n",
        "It's important to make sure that the condition eventually become false, otherwise,the loop will run indefinitely,resulting in an infinite loop."
      ],
      "metadata": {
        "id": "erXz3L_0RZLP"
      }
    },
    {
      "cell_type": "markdown",
      "source": [
        "14.Describe a scenario where a while loop is more suitable than a for loop?\n",
        "\n",
        "14.A while loop is suitable when where the number of iteration not known in advance and depends on a dynamic conditions.\n",
        "\n",
        "Example\n",
        "\n",
        "password=\"\"\n",
        "\n",
        "while(len(password)>=8):\n",
        "\n",
        "  print(\"Password is too short\")\n",
        "\n",
        "password=input(\"Enter your password\")"
      ],
      "metadata": {
        "id": "iqg30ryVSnFD"
      }
    },
    {
      "cell_type": "markdown",
      "source": [
        "# Practical Questions"
      ],
      "metadata": {
        "id": "gJpTz91TUBGI"
      }
    },
    {
      "cell_type": "code",
      "source": [
        "# 1.Write a Python program to print \"Hello, World!\"\n",
        "print(\"Hello World!\")"
      ],
      "metadata": {
        "id": "fQMEN7qqUIL4"
      },
      "execution_count": null,
      "outputs": []
    },
    {
      "cell_type": "code",
      "source": [
        "# 2.Write a Python program that displays your name and age.\n",
        "print(\"My name is Rolex.\")\n",
        "print(\"Age is 22.\")"
      ],
      "metadata": {
        "colab": {
          "base_uri": "https://localhost:8080/"
        },
        "id": "J84u1UlEUWlX",
        "outputId": "13d9c837-c9a8-4938-eabd-eb51094800c4"
      },
      "execution_count": 1,
      "outputs": [
        {
          "output_type": "stream",
          "name": "stdout",
          "text": [
            "My name is Rolex.\n",
            "Age is 22.\n"
          ]
        }
      ]
    },
    {
      "cell_type": "code",
      "source": [
        "# 3.Write code to print all the pre-defined keywords in Python using the keyword library.\n",
        "help(\"keywords\")"
      ],
      "metadata": {
        "colab": {
          "base_uri": "https://localhost:8080/"
        },
        "id": "G8T-KOGLV7Mi",
        "outputId": "13584e48-bd8b-49d7-d127-557decd60e86"
      },
      "execution_count": 3,
      "outputs": [
        {
          "output_type": "stream",
          "name": "stdout",
          "text": [
            "\n",
            "Here is a list of the Python keywords.  Enter any keyword to get more help.\n",
            "\n",
            "False               class               from                or\n",
            "None                continue            global              pass\n",
            "True                def                 if                  raise\n",
            "and                 del                 import              return\n",
            "as                  elif                in                  try\n",
            "assert              else                is                  while\n",
            "async               except              lambda              with\n",
            "await               finally             nonlocal            yield\n",
            "break               for                 not                 \n",
            "\n"
          ]
        }
      ]
    },
    {
      "cell_type": "code",
      "source": [
        "# 4.Write a program that checks if a given word is a Python keyword.\n",
        "import keyword\n",
        "word = input(\"Enter a word: \")\n",
        "if keyword.iskeyword(word):\n",
        "    print(f\"'{word}' is a Python keyword.\")\n",
        "else:\n",
        "    print(f\"'{word}' is not a Python keyword.\")\n"
      ],
      "metadata": {
        "colab": {
          "base_uri": "https://localhost:8080/"
        },
        "id": "BZFXEHY_VDuH",
        "outputId": "36de372d-3e74-48cc-b9dc-c9ffff4aff7c"
      },
      "execution_count": 4,
      "outputs": [
        {
          "output_type": "stream",
          "name": "stdout",
          "text": [
            "Enter a word: from\n",
            "'from' is a Python keyword.\n"
          ]
        }
      ]
    },
    {
      "cell_type": "code",
      "source": [
        "\"\"\" 5.Create a list and tuple in Python, and demonstrate how attempting to change an element works differently\n",
        "for each.\"\"\"\n",
        "l=[\"ankit\",1,2,\"bob\"]\n",
        "t=(\"ankit\",1,2,\"bob\")\n",
        "l[0]=\"bob\"\n",
        "print(l)\n",
        "t[0]=\"bob\"\n",
        "print(t)"
      ],
      "metadata": {
        "colab": {
          "base_uri": "https://localhost:8080/",
          "height": 215
        },
        "id": "Nd4BMmz1Va4T",
        "outputId": "ed5e96df-90e6-4ee5-c17b-fd6ad695d35c"
      },
      "execution_count": 5,
      "outputs": [
        {
          "output_type": "stream",
          "name": "stdout",
          "text": [
            "['bob', 1, 2, 'bob']\n"
          ]
        },
        {
          "output_type": "error",
          "ename": "TypeError",
          "evalue": "'tuple' object does not support item assignment",
          "traceback": [
            "\u001b[0;31m---------------------------------------------------------------------------\u001b[0m",
            "\u001b[0;31mTypeError\u001b[0m                                 Traceback (most recent call last)",
            "\u001b[0;32m/tmp/ipython-input-2113912564.py\u001b[0m in \u001b[0;36m<cell line: 0>\u001b[0;34m()\u001b[0m\n\u001b[1;32m      5\u001b[0m \u001b[0ml\u001b[0m\u001b[0;34m[\u001b[0m\u001b[0;36m0\u001b[0m\u001b[0;34m]\u001b[0m\u001b[0;34m=\u001b[0m\u001b[0;34m\"bob\"\u001b[0m\u001b[0;34m\u001b[0m\u001b[0;34m\u001b[0m\u001b[0m\n\u001b[1;32m      6\u001b[0m \u001b[0mprint\u001b[0m\u001b[0;34m(\u001b[0m\u001b[0ml\u001b[0m\u001b[0;34m)\u001b[0m\u001b[0;34m\u001b[0m\u001b[0;34m\u001b[0m\u001b[0m\n\u001b[0;32m----> 7\u001b[0;31m \u001b[0mt\u001b[0m\u001b[0;34m[\u001b[0m\u001b[0;36m0\u001b[0m\u001b[0;34m]\u001b[0m\u001b[0;34m=\u001b[0m\u001b[0;34m\"bob\"\u001b[0m\u001b[0;34m\u001b[0m\u001b[0;34m\u001b[0m\u001b[0m\n\u001b[0m\u001b[1;32m      8\u001b[0m \u001b[0mprint\u001b[0m\u001b[0;34m(\u001b[0m\u001b[0mt\u001b[0m\u001b[0;34m)\u001b[0m\u001b[0;34m\u001b[0m\u001b[0;34m\u001b[0m\u001b[0m\n",
            "\u001b[0;31mTypeError\u001b[0m: 'tuple' object does not support item assignment"
          ]
        }
      ]
    },
    {
      "cell_type": "code",
      "source": [
        "\"\"\" 6. Write a function to demonstrate the behavior of mutable and immutable arguments.\"\"\"\n",
        "def demonstrate_argument_behavior(mutable_list, immutable_int):\n",
        "    \"\"\"\n",
        "    Demonstrates the behavior of mutable and immutable arguments in Python.\n",
        "\n",
        "    Args:\n",
        "        mutable_list (list): A mutable object (list) that will be modified.\n",
        "        immutable_int (int): An immutable object (integer) that will be reassigned.\n",
        "    \"\"\"\n",
        "    print(f\"Inside function - Initial mutable_list: {mutable_list}, id: {id(mutable_list)}\")\n",
        "    print(f\"Inside function - Initial immutable_int: {immutable_int}, id: {id(immutable_int)}\")\n",
        "\n",
        "    # Modify the mutable argument\n",
        "    mutable_list.append(4)\n",
        "    print(f\"Inside function - Modified mutable_list: {mutable_list}, id: {id(mutable_list)}\")\n",
        "\n",
        "    # Attempt to \"modify\" the immutable argument (actually reassigns it)\n",
        "    immutable_int += 1\n",
        "    print(f\"Inside function - Reassigned immutable_int: {immutable_int}, id: {id(immutable_int)}\")\n",
        "\n",
        "\n",
        "# --- Demonstration ---\n",
        "\n",
        "# Create a mutable list and an immutable integer\n",
        "my_list = [1, 2, 3]\n",
        "my_int = 10\n",
        "\n",
        "print(f\"Outside function - Before call: my_list: {my_list}, id: {id(my_list)}\")\n",
        "print(f\"Outside function - Before call: my_int: {my_int}, id: {id(my_int)}\")\n",
        "\n",
        "demonstrate_argument_behavior(my_list, my_int)\n",
        "\n",
        "print(f\"Outside function - After call: my_list: {my_list}, id: {id(my_list)}\")\n",
        "print(f\"Outside function - After call: my_int: {my_int}, id: {id(my_int)}\")"
      ],
      "metadata": {
        "colab": {
          "base_uri": "https://localhost:8080/"
        },
        "id": "HBlLiIvTWrOA",
        "outputId": "02389d06-5473-4eb7-e1a1-cc7dbbd0a97f"
      },
      "execution_count": 6,
      "outputs": [
        {
          "output_type": "stream",
          "name": "stdout",
          "text": [
            "Outside function - Before call: my_list: [1, 2, 3], id: 137128654848128\n",
            "Outside function - Before call: my_int: 10, id: 11642376\n",
            "Inside function - Initial mutable_list: [1, 2, 3], id: 137128654848128\n",
            "Inside function - Initial immutable_int: 10, id: 11642376\n",
            "Inside function - Modified mutable_list: [1, 2, 3, 4], id: 137128654848128\n",
            "Inside function - Reassigned immutable_int: 11, id: 11642408\n",
            "Outside function - After call: my_list: [1, 2, 3, 4], id: 137128654848128\n",
            "Outside function - After call: my_int: 10, id: 11642376\n"
          ]
        }
      ]
    },
    {
      "cell_type": "code",
      "source": [
        "# 7.Write a program that performs basic arithmetic operations on two user-input numbers.\n",
        "num1=int(input(\"Enter the first number\"))\n",
        "num2=int(input(\"Enter the second number\"))\n",
        "print(\"Sum of two number is \",num1+num2)\n",
        "print(\"Difference of two number is \",num1-num2)\n",
        "print(\"Product of two number is \",num1*num2)\n",
        "print(\"Division of two number is \",num1/num2)"
      ],
      "metadata": {
        "colab": {
          "base_uri": "https://localhost:8080/"
        },
        "id": "Yc_z90Y7XIFR",
        "outputId": "bdac4aa5-8424-4a53-da32-0c2c13d627be"
      },
      "execution_count": 7,
      "outputs": [
        {
          "output_type": "stream",
          "name": "stdout",
          "text": [
            "Enter the first number10\n",
            "Enter the second number20\n",
            "Sum of two number is  30\n",
            "Difference of two number is  -10\n",
            "Product of two number is  200\n",
            "Division of two number is  0.5\n"
          ]
        }
      ]
    },
    {
      "cell_type": "code",
      "source": [
        "# 8. Write a program to demonstrate the use of logical operators.\n",
        "vip=True\n",
        "log=True\n",
        "neta=True\n",
        "if( vip and log):\n",
        "  print(\"Sirf Vip ki izzat hai\")\n",
        "if(log and neta):\n",
        "  print(\"log be like yeh sab hamko pagal ban rahe hain\")\n",
        "if(vip or neta):\n",
        "  print(\"Raaz hamara rah gya q ki tum sab benstokes  ho\")"
      ],
      "metadata": {
        "id": "i8tEgMWxX1ZO"
      },
      "execution_count": 9,
      "outputs": []
    },
    {
      "cell_type": "code",
      "source": [
        "#  9. Write a Python program to convert user input from string to integer, float, and boolean types.\n",
        "a=input(\"Enter you number\")\n",
        "b=int(a)\n",
        "c=float(a)\n",
        "d=bool(a)\n",
        "print(a,b,c,d)"
      ],
      "metadata": {
        "colab": {
          "base_uri": "https://localhost:8080/"
        },
        "id": "F7KI8JHBYxxL",
        "outputId": "83444845-cebb-4b30-9ca8-a15704eba200"
      },
      "execution_count": 10,
      "outputs": [
        {
          "output_type": "stream",
          "name": "stdout",
          "text": [
            "Enter you number1\n",
            "1 1 1.0 True\n"
          ]
        }
      ]
    },
    {
      "cell_type": "code",
      "source": [
        "#  10. Write code to demonstrate type casting with list elements.\n",
        "l=[1,3,5,6,7]\n",
        "l[0]=float(l[0])\n",
        "l[1]=float(l[1])\n",
        "l[2]=float(l[2])\n",
        "l"
      ],
      "metadata": {
        "colab": {
          "base_uri": "https://localhost:8080/"
        },
        "id": "lmDAfvBVa1lj",
        "outputId": "a6b142a3-4129-49c7-dcfc-3d9df05f435f"
      },
      "execution_count": 16,
      "outputs": [
        {
          "output_type": "execute_result",
          "data": {
            "text/plain": [
              "[1.0, 3.0, 5.0, 6, 7]"
            ]
          },
          "metadata": {},
          "execution_count": 16
        }
      ]
    },
    {
      "cell_type": "code",
      "source": [
        "#  11. Write a program that checks if a number is positive, negative, or zero.\n",
        "num=int(input(\"Enter the number\"))\n",
        "if(num>0):\n",
        "  print(\"Positive\")\n",
        "elif(num==0):\n",
        "  print(\"Zero\")\n",
        "else:\n",
        "  print(\"Negative\")"
      ],
      "metadata": {
        "colab": {
          "base_uri": "https://localhost:8080/"
        },
        "id": "KMWJIxQybbV9",
        "outputId": "c5e5ed1e-789d-4252-a5ee-b5dc2b3798e3"
      },
      "execution_count": 19,
      "outputs": [
        {
          "output_type": "stream",
          "name": "stdout",
          "text": [
            "Enter the number0\n",
            "Zero\n"
          ]
        }
      ]
    },
    {
      "cell_type": "code",
      "source": [
        "# 12. Write a for loop to print numbers from 1 to 10.\n",
        "for i in range(1,11):\n",
        "  print(i)"
      ],
      "metadata": {
        "colab": {
          "base_uri": "https://localhost:8080/"
        },
        "id": "PnWaoFUmcAfj",
        "outputId": "d7180638-cf60-4483-9a6a-731bec128ca4"
      },
      "execution_count": 20,
      "outputs": [
        {
          "output_type": "stream",
          "name": "stdout",
          "text": [
            "1\n",
            "2\n",
            "3\n",
            "4\n",
            "5\n",
            "6\n",
            "7\n",
            "8\n",
            "9\n",
            "10\n"
          ]
        }
      ]
    },
    {
      "cell_type": "code",
      "source": [
        "#  13. Write a Python program to find the sum of all even numbers between 1 and 50.\n",
        "sum=0\n",
        "for i in  range(1,51):\n",
        "  if(i%2==0):\n",
        "    sum=sum+i\n",
        "print(sum)"
      ],
      "metadata": {
        "colab": {
          "base_uri": "https://localhost:8080/"
        },
        "id": "YxUwoQMycR8X",
        "outputId": "b2be455e-fec6-462d-93c0-90a3b5608886"
      },
      "execution_count": 25,
      "outputs": [
        {
          "output_type": "stream",
          "name": "stdout",
          "text": [
            "650\n"
          ]
        }
      ]
    },
    {
      "cell_type": "code",
      "source": [
        "#  14. Write a program to reverse a string using a while loop.\n",
        "input_string = input(\"Enter a string: \")\n",
        "reversed_str = \"\"\n",
        "index = len(input_string) - 1\n",
        "\n",
        "while index >= 0:\n",
        "    reversed_str += input_string[index]\n",
        "    index -= 1\n",
        "\n",
        "print(\"Original string:\", input_string)\n",
        "print(\"Reversed string:\", reversed_str)\n"
      ],
      "metadata": {
        "colab": {
          "base_uri": "https://localhost:8080/"
        },
        "id": "-ShbNlU4dJM9",
        "outputId": "1a385bc3-aed3-4d56-db6c-8c9480318627"
      },
      "execution_count": 26,
      "outputs": [
        {
          "output_type": "stream",
          "name": "stdout",
          "text": [
            "Enter a string: Ankit\n",
            "Original string: Ankit\n",
            "Reversed string: tiknA\n"
          ]
        }
      ]
    },
    {
      "cell_type": "code",
      "source": [
        "# 15. Write a Python program to calculate the factorial of a number provided by the user using a while loop\n",
        "num = int(input(\"Enter a non-negative integer: \"))\n",
        "\n",
        "factorial = 1\n",
        "counter = num\n",
        "\n",
        "if num < 0:\n",
        "    print(\"Factorial is not defined for negative numbers.\")\n",
        "else:\n",
        "    while counter > 1:\n",
        "        factorial *= counter\n",
        "        counter -= 1\n",
        "    print(f\"Factorial of {num} is {factorial}\")\n"
      ],
      "metadata": {
        "colab": {
          "base_uri": "https://localhost:8080/"
        },
        "id": "6r06xTIUevvM",
        "outputId": "6217f037-023a-450a-88f4-ec917485b040"
      },
      "execution_count": 27,
      "outputs": [
        {
          "output_type": "stream",
          "name": "stdout",
          "text": [
            "Enter a non-negative integer: 5\n",
            "Factorial of 5 is 120\n"
          ]
        }
      ]
    }
  ]
}